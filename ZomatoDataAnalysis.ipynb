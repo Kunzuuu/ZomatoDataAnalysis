{
 "cells": [
  {
   "cell_type": "markdown",
   "id": "35b85bda-2d16-4beb-9c2e-8617dcacc162",
   "metadata": {},
   "source": [
    "## Importing Libraries"
   ]
  },
  {
   "cell_type": "code",
   "execution_count": 53,
   "id": "8b57ea42-d1b7-43a7-b13a-ba863bed7dac",
   "metadata": {},
   "outputs": [],
   "source": [
    "import pandas as pd\n",
    "from matplotlib import pyplot as plt"
   ]
  },
  {
   "cell_type": "markdown",
   "id": "db7fd913-28bd-41bc-9d7b-80bb21909b06",
   "metadata": {},
   "source": [
    "## Loading Data"
   ]
  },
  {
   "cell_type": "code",
   "execution_count": 54,
   "id": "f3d01c2f-1d80-4db6-856b-25193f4f0aca",
   "metadata": {},
   "outputs": [
    {
     "data": {
      "text/html": [
       "<div>\n",
       "<style scoped>\n",
       "    .dataframe tbody tr th:only-of-type {\n",
       "        vertical-align: middle;\n",
       "    }\n",
       "\n",
       "    .dataframe tbody tr th {\n",
       "        vertical-align: top;\n",
       "    }\n",
       "\n",
       "    .dataframe thead th {\n",
       "        text-align: right;\n",
       "    }\n",
       "</style>\n",
       "<table border=\"1\" class=\"dataframe\">\n",
       "  <thead>\n",
       "    <tr style=\"text-align: right;\">\n",
       "      <th></th>\n",
       "      <th>NAME</th>\n",
       "      <th>PRICE</th>\n",
       "      <th>CUSINE_CATEGORY</th>\n",
       "      <th>CITY</th>\n",
       "      <th>REGION</th>\n",
       "      <th>URL</th>\n",
       "      <th>PAGE NO</th>\n",
       "      <th>CUSINE TYPE</th>\n",
       "      <th>TIMING</th>\n",
       "      <th>RATING_TYPE</th>\n",
       "      <th>RATING</th>\n",
       "      <th>VOTES</th>\n",
       "    </tr>\n",
       "  </thead>\n",
       "  <tbody>\n",
       "    <tr>\n",
       "      <th>0</th>\n",
       "      <td>Hitchki</td>\n",
       "      <td>1200</td>\n",
       "      <td>Modern Indian,North Indian,Chinese,Momos,Birya...</td>\n",
       "      <td>Mumbai</td>\n",
       "      <td>First International Financial Centre-- Bandra ...</td>\n",
       "      <td>https://www.zomato.com/mumbai/hitchki-bandra-k...</td>\n",
       "      <td>1</td>\n",
       "      <td>Casual Dining</td>\n",
       "      <td>12noon to 130am(Mon-Sun)</td>\n",
       "      <td>Excellent</td>\n",
       "      <td>4.9</td>\n",
       "      <td>3529</td>\n",
       "    </tr>\n",
       "    <tr>\n",
       "      <th>1</th>\n",
       "      <td>Baba Falooda</td>\n",
       "      <td>400</td>\n",
       "      <td>Desserts,Ice Cream,Beverages</td>\n",
       "      <td>Mumbai</td>\n",
       "      <td>Mahim</td>\n",
       "      <td>https://www.zomato.com/mumbai/baba-falooda-mah...</td>\n",
       "      <td>1</td>\n",
       "      <td>Dessert Parlor</td>\n",
       "      <td>2pm to 1am(Mon-Sun)</td>\n",
       "      <td>Very Good</td>\n",
       "      <td>4.4</td>\n",
       "      <td>1723</td>\n",
       "    </tr>\n",
       "    <tr>\n",
       "      <th>2</th>\n",
       "      <td>Chin Chin Chu</td>\n",
       "      <td>1800</td>\n",
       "      <td>Asian,Chinese</td>\n",
       "      <td>Mumbai</td>\n",
       "      <td>Juhu</td>\n",
       "      <td>https://www.zomato.com/mumbai/chin-chin-chu-ju...</td>\n",
       "      <td>1</td>\n",
       "      <td>Casual Dining</td>\n",
       "      <td>12noon to 1am(Mon-Sun)</td>\n",
       "      <td>Very Good</td>\n",
       "      <td>4.2</td>\n",
       "      <td>337</td>\n",
       "    </tr>\n",
       "    <tr>\n",
       "      <th>3</th>\n",
       "      <td>Butterfly High</td>\n",
       "      <td>1000</td>\n",
       "      <td>Modern Indian</td>\n",
       "      <td>Mumbai</td>\n",
       "      <td>Bandra Kurla Complex</td>\n",
       "      <td>https://www.zomato.com/mumbai/butterfly-high-b...</td>\n",
       "      <td>1</td>\n",
       "      <td>Bar</td>\n",
       "      <td>12noon to 130am(Mon-Sun)</td>\n",
       "      <td>Very Good</td>\n",
       "      <td>4.3</td>\n",
       "      <td>1200</td>\n",
       "    </tr>\n",
       "    <tr>\n",
       "      <th>4</th>\n",
       "      <td>BKC  DIVE</td>\n",
       "      <td>1200</td>\n",
       "      <td>North Indian,Chinese,Continental</td>\n",
       "      <td>Mumbai</td>\n",
       "      <td>Bandra Kurla Complex</td>\n",
       "      <td>https://www.zomato.com/mumbai/bkc-dive-bandra-...</td>\n",
       "      <td>1</td>\n",
       "      <td>Bar</td>\n",
       "      <td>1130am to 1am(Mon-Sun)</td>\n",
       "      <td>Veľmi dobré</td>\n",
       "      <td>4.4</td>\n",
       "      <td>5995</td>\n",
       "    </tr>\n",
       "  </tbody>\n",
       "</table>\n",
       "</div>"
      ],
      "text/plain": [
       "             NAME PRICE                                    CUSINE_CATEGORY  \\\n",
       "0         Hitchki  1200  Modern Indian,North Indian,Chinese,Momos,Birya...   \n",
       "1    Baba Falooda   400                       Desserts,Ice Cream,Beverages   \n",
       "2   Chin Chin Chu  1800                                      Asian,Chinese   \n",
       "3  Butterfly High  1000                                      Modern Indian   \n",
       "4       BKC  DIVE  1200                   North Indian,Chinese,Continental   \n",
       "\n",
       "     CITY                                             REGION  \\\n",
       "0  Mumbai  First International Financial Centre-- Bandra ...   \n",
       "1  Mumbai                                              Mahim   \n",
       "2  Mumbai                                               Juhu   \n",
       "3  Mumbai                               Bandra Kurla Complex   \n",
       "4  Mumbai                               Bandra Kurla Complex   \n",
       "\n",
       "                                                 URL PAGE NO     CUSINE TYPE  \\\n",
       "0  https://www.zomato.com/mumbai/hitchki-bandra-k...       1   Casual Dining   \n",
       "1  https://www.zomato.com/mumbai/baba-falooda-mah...       1  Dessert Parlor   \n",
       "2  https://www.zomato.com/mumbai/chin-chin-chu-ju...       1   Casual Dining   \n",
       "3  https://www.zomato.com/mumbai/butterfly-high-b...       1             Bar   \n",
       "4  https://www.zomato.com/mumbai/bkc-dive-bandra-...       1             Bar   \n",
       "\n",
       "                     TIMING  RATING_TYPE RATING VOTES  \n",
       "0  12noon to 130am(Mon-Sun)    Excellent    4.9  3529  \n",
       "1       2pm to 1am(Mon-Sun)    Very Good    4.4  1723  \n",
       "2    12noon to 1am(Mon-Sun)    Very Good    4.2   337  \n",
       "3  12noon to 130am(Mon-Sun)    Very Good    4.3  1200  \n",
       "4    1130am to 1am(Mon-Sun)  Veľmi dobré    4.4  5995  "
      ]
     },
     "execution_count": 54,
     "metadata": {},
     "output_type": "execute_result"
    }
   ],
   "source": [
    "df = pd.read_csv('Zomato.csv',delimiter='|')\n",
    "df.head()"
   ]
  },
  {
   "cell_type": "markdown",
   "id": "600c4c44-51f7-4f8f-a491-485fcc7aa525",
   "metadata": {},
   "source": [
    "## Number of Rows VS Columns"
   ]
  },
  {
   "cell_type": "code",
   "execution_count": 55,
   "id": "f375a054-71d1-420a-a8fc-c9a1ccf91406",
   "metadata": {},
   "outputs": [
    {
     "data": {
      "text/plain": [
       "(15081, 12)"
      ]
     },
     "execution_count": 55,
     "metadata": {},
     "output_type": "execute_result"
    }
   ],
   "source": [
    "df.shape"
   ]
  },
  {
   "cell_type": "markdown",
   "id": "5a8519cf-cd47-485e-a082-61af5ae6ebd8",
   "metadata": {},
   "source": [
    "## Dropping duplicates and null values"
   ]
  },
  {
   "cell_type": "code",
   "execution_count": 57,
   "id": "afc75ff2-ad34-4e83-9916-ac7b05438c83",
   "metadata": {},
   "outputs": [
    {
     "data": {
      "text/html": [
       "<div>\n",
       "<style scoped>\n",
       "    .dataframe tbody tr th:only-of-type {\n",
       "        vertical-align: middle;\n",
       "    }\n",
       "\n",
       "    .dataframe tbody tr th {\n",
       "        vertical-align: top;\n",
       "    }\n",
       "\n",
       "    .dataframe thead th {\n",
       "        text-align: right;\n",
       "    }\n",
       "</style>\n",
       "<table border=\"1\" class=\"dataframe\">\n",
       "  <thead>\n",
       "    <tr style=\"text-align: right;\">\n",
       "      <th></th>\n",
       "      <th>NAME</th>\n",
       "      <th>PRICE</th>\n",
       "      <th>CUSINE_CATEGORY</th>\n",
       "      <th>REGION</th>\n",
       "      <th>CUSINE TYPE</th>\n",
       "      <th>RATING_TYPE</th>\n",
       "      <th>RATING</th>\n",
       "    </tr>\n",
       "  </thead>\n",
       "  <tbody>\n",
       "    <tr>\n",
       "      <th>0</th>\n",
       "      <td>Hitchki</td>\n",
       "      <td>1200</td>\n",
       "      <td>Modern Indian,North Indian,Chinese,Momos,Birya...</td>\n",
       "      <td>First International Financial Centre-- Bandra ...</td>\n",
       "      <td>Casual Dining</td>\n",
       "      <td>Excellent</td>\n",
       "      <td>4.9</td>\n",
       "    </tr>\n",
       "    <tr>\n",
       "      <th>1</th>\n",
       "      <td>Baba Falooda</td>\n",
       "      <td>400</td>\n",
       "      <td>Desserts,Ice Cream,Beverages</td>\n",
       "      <td>Mahim</td>\n",
       "      <td>Dessert Parlor</td>\n",
       "      <td>Very Good</td>\n",
       "      <td>4.4</td>\n",
       "    </tr>\n",
       "    <tr>\n",
       "      <th>2</th>\n",
       "      <td>Chin Chin Chu</td>\n",
       "      <td>1800</td>\n",
       "      <td>Asian,Chinese</td>\n",
       "      <td>Juhu</td>\n",
       "      <td>Casual Dining</td>\n",
       "      <td>Very Good</td>\n",
       "      <td>4.2</td>\n",
       "    </tr>\n",
       "    <tr>\n",
       "      <th>3</th>\n",
       "      <td>Butterfly High</td>\n",
       "      <td>1000</td>\n",
       "      <td>Modern Indian</td>\n",
       "      <td>Bandra Kurla Complex</td>\n",
       "      <td>Bar</td>\n",
       "      <td>Very Good</td>\n",
       "      <td>4.3</td>\n",
       "    </tr>\n",
       "    <tr>\n",
       "      <th>4</th>\n",
       "      <td>BKC  DIVE</td>\n",
       "      <td>1200</td>\n",
       "      <td>North Indian,Chinese,Continental</td>\n",
       "      <td>Bandra Kurla Complex</td>\n",
       "      <td>Bar</td>\n",
       "      <td>Veľmi dobré</td>\n",
       "      <td>4.4</td>\n",
       "    </tr>\n",
       "  </tbody>\n",
       "</table>\n",
       "</div>"
      ],
      "text/plain": [
       "             NAME PRICE                                    CUSINE_CATEGORY  \\\n",
       "0         Hitchki  1200  Modern Indian,North Indian,Chinese,Momos,Birya...   \n",
       "1    Baba Falooda   400                       Desserts,Ice Cream,Beverages   \n",
       "2   Chin Chin Chu  1800                                      Asian,Chinese   \n",
       "3  Butterfly High  1000                                      Modern Indian   \n",
       "4       BKC  DIVE  1200                   North Indian,Chinese,Continental   \n",
       "\n",
       "                                              REGION     CUSINE TYPE  \\\n",
       "0  First International Financial Centre-- Bandra ...   Casual Dining   \n",
       "1                                              Mahim  Dessert Parlor   \n",
       "2                                               Juhu   Casual Dining   \n",
       "3                               Bandra Kurla Complex             Bar   \n",
       "4                               Bandra Kurla Complex             Bar   \n",
       "\n",
       "   RATING_TYPE RATING  \n",
       "0    Excellent    4.9  \n",
       "1    Very Good    4.4  \n",
       "2    Very Good    4.2  \n",
       "3    Very Good    4.3  \n",
       "4  Veľmi dobré    4.4  "
      ]
     },
     "execution_count": 57,
     "metadata": {},
     "output_type": "execute_result"
    }
   ],
   "source": [
    "df.dropna(axis=0, how='any', inplace=True)\n",
    "\n",
    "df.drop_duplicates(inplace=True,keep=False)\n",
    "\n",
    "df.drop(columns=['CITY','URL','PAGE NO','TIMING','VOTES'],inplace=True)\n",
    "\n",
    "df.head(5)"
   ]
  },
  {
   "cell_type": "markdown",
   "id": "d9874381-2be2-47ad-8bf0-778eec7acbd3",
   "metadata": {},
   "source": [
    "## Renaming Columns"
   ]
  },
  {
   "cell_type": "code",
   "execution_count": 58,
   "id": "3d2e12cd-9b94-4075-9f57-088928980e64",
   "metadata": {},
   "outputs": [
    {
     "data": {
      "text/html": [
       "<div>\n",
       "<style scoped>\n",
       "    .dataframe tbody tr th:only-of-type {\n",
       "        vertical-align: middle;\n",
       "    }\n",
       "\n",
       "    .dataframe tbody tr th {\n",
       "        vertical-align: top;\n",
       "    }\n",
       "\n",
       "    .dataframe thead th {\n",
       "        text-align: right;\n",
       "    }\n",
       "</style>\n",
       "<table border=\"1\" class=\"dataframe\">\n",
       "  <thead>\n",
       "    <tr style=\"text-align: right;\">\n",
       "      <th></th>\n",
       "      <th>NAME</th>\n",
       "      <th>PRICE</th>\n",
       "      <th>CUISINE_CATEGORY</th>\n",
       "      <th>REGION</th>\n",
       "      <th>OUTLET_TYPE</th>\n",
       "      <th>REVIEWS</th>\n",
       "      <th>RATING</th>\n",
       "    </tr>\n",
       "  </thead>\n",
       "  <tbody>\n",
       "    <tr>\n",
       "      <th>0</th>\n",
       "      <td>Hitchki</td>\n",
       "      <td>1200</td>\n",
       "      <td>Modern Indian,North Indian,Chinese,Momos,Birya...</td>\n",
       "      <td>First International Financial Centre-- Bandra ...</td>\n",
       "      <td>Casual Dining</td>\n",
       "      <td>Excellent</td>\n",
       "      <td>4.9</td>\n",
       "    </tr>\n",
       "    <tr>\n",
       "      <th>1</th>\n",
       "      <td>Baba Falooda</td>\n",
       "      <td>400</td>\n",
       "      <td>Desserts,Ice Cream,Beverages</td>\n",
       "      <td>Mahim</td>\n",
       "      <td>Dessert Parlor</td>\n",
       "      <td>Very Good</td>\n",
       "      <td>4.4</td>\n",
       "    </tr>\n",
       "    <tr>\n",
       "      <th>2</th>\n",
       "      <td>Chin Chin Chu</td>\n",
       "      <td>1800</td>\n",
       "      <td>Asian,Chinese</td>\n",
       "      <td>Juhu</td>\n",
       "      <td>Casual Dining</td>\n",
       "      <td>Very Good</td>\n",
       "      <td>4.2</td>\n",
       "    </tr>\n",
       "    <tr>\n",
       "      <th>3</th>\n",
       "      <td>Butterfly High</td>\n",
       "      <td>1000</td>\n",
       "      <td>Modern Indian</td>\n",
       "      <td>Bandra Kurla Complex</td>\n",
       "      <td>Bar</td>\n",
       "      <td>Very Good</td>\n",
       "      <td>4.3</td>\n",
       "    </tr>\n",
       "    <tr>\n",
       "      <th>4</th>\n",
       "      <td>BKC  DIVE</td>\n",
       "      <td>1200</td>\n",
       "      <td>North Indian,Chinese,Continental</td>\n",
       "      <td>Bandra Kurla Complex</td>\n",
       "      <td>Bar</td>\n",
       "      <td>Veľmi dobré</td>\n",
       "      <td>4.4</td>\n",
       "    </tr>\n",
       "  </tbody>\n",
       "</table>\n",
       "</div>"
      ],
      "text/plain": [
       "             NAME PRICE                                   CUISINE_CATEGORY  \\\n",
       "0         Hitchki  1200  Modern Indian,North Indian,Chinese,Momos,Birya...   \n",
       "1    Baba Falooda   400                       Desserts,Ice Cream,Beverages   \n",
       "2   Chin Chin Chu  1800                                      Asian,Chinese   \n",
       "3  Butterfly High  1000                                      Modern Indian   \n",
       "4       BKC  DIVE  1200                   North Indian,Chinese,Continental   \n",
       "\n",
       "                                              REGION     OUTLET_TYPE  \\\n",
       "0  First International Financial Centre-- Bandra ...   Casual Dining   \n",
       "1                                              Mahim  Dessert Parlor   \n",
       "2                                               Juhu   Casual Dining   \n",
       "3                               Bandra Kurla Complex             Bar   \n",
       "4                               Bandra Kurla Complex             Bar   \n",
       "\n",
       "       REVIEWS RATING  \n",
       "0    Excellent    4.9  \n",
       "1    Very Good    4.4  \n",
       "2    Very Good    4.2  \n",
       "3    Very Good    4.3  \n",
       "4  Veľmi dobré    4.4  "
      ]
     },
     "execution_count": 58,
     "metadata": {},
     "output_type": "execute_result"
    }
   ],
   "source": [
    "df.rename({'CUSINE_CATEGORY' : 'CUISINE_CATEGORY', 'CUSINE TYPE' : 'OUTLET_TYPE', 'RATING_TYPE': 'REVIEWS'},axis=1, inplace=True)\n",
    "\n",
    "df.head()"
   ]
  },
  {
   "cell_type": "markdown",
   "id": "968710ae-1909-49f0-94e9-4fe3bb2d2e8f",
   "metadata": {},
   "source": [
    "## Cleaning Rating Column"
   ]
  },
  {
   "cell_type": "code",
   "execution_count": 59,
   "id": "c8202151-5023-4ca4-888a-de023fc2f6a0",
   "metadata": {},
   "outputs": [
    {
     "data": {
      "text/plain": [
       "array(['4.9', '4.4', '4.2', '4.3', '4.5', '4.7', '4.0', '4.6', '4.1',\n",
       "       '3.9', '3.8', 0, '3.6', '3.4', '3.0', '3.7', '4.8', '3.3', '3.5',\n",
       "       '3.2', '3.1', '2.7', '2.5', '2.8', '2.6', '2.3', '2.9', '2.4',\n",
       "       '2.1', '2.2', '1.8', '2.0'], dtype=object)"
      ]
     },
     "execution_count": 59,
     "metadata": {},
     "output_type": "execute_result"
    }
   ],
   "source": [
    "df['RATING'] = df.apply(lambda x: 0 if x['RATING'] in ['-','NEW','Opening'] else x['RATING'], axis=1)\n",
    "df['RATING'].unique()"
   ]
  },
  {
   "cell_type": "markdown",
   "id": "cea22c83-9e8b-464e-bcf7-329a2826477a",
   "metadata": {},
   "source": [
    "## Cleaning price column"
   ]
  },
  {
   "cell_type": "code",
   "execution_count": 60,
   "id": "ab901aa4-0efa-42a7-9cb9-a1dfc6612653",
   "metadata": {},
   "outputs": [
    {
     "data": {
      "text/plain": [
       "array(['1200', '400', '1800', '1000', '800', '1300', '1500', '600',\n",
       "       '1400', '1100', '2000', '350', '900', '700', '500', '1600', '150',\n",
       "       '300', '550', '450', '650', '750', '250', '200', '850', '100',\n",
       "       '2500', '1450', '180', '950', '1700', '1900', '2600', '2400',\n",
       "       '3000', '1250', '3200', '505', '2200', '1050', '1650', '1350',\n",
       "       '50', '920', '1150', '1550', '3500', '398', '5000', '120', '220',\n",
       "       '160', '340', '5', '480', '2100', '580', '1850', '249', '80',\n",
       "       '2300', '360', '3502', '248', '2700'], dtype=object)"
      ]
     },
     "execution_count": 60,
     "metadata": {},
     "output_type": "execute_result"
    }
   ],
   "source": [
    "df['PRICE'].unique()"
   ]
  },
  {
   "cell_type": "markdown",
   "id": "fb2e1a3e-d241-48f6-98e1-c04b729fbae4",
   "metadata": {},
   "source": [
    "## Cleaning reviews column"
   ]
  },
  {
   "cell_type": "code",
   "execution_count": 61,
   "id": "2d45c102-8290-4c19-a365-a9a0e2f85c12",
   "metadata": {},
   "outputs": [
    {
     "name": "stderr",
     "output_type": "stream",
     "text": [
      "C:\\Users\\Kunal\\AppData\\Local\\Temp\\ipykernel_16060\\2546893848.py:1: FutureWarning: A value is trying to be set on a copy of a DataFrame or Series through chained assignment using an inplace method.\n",
      "The behavior will change in pandas 3.0. This inplace method will never work because the intermediate object on which we are setting values always behaves as a copy.\n",
      "\n",
      "For example, when doing 'df[col].method(value, inplace=True)', try using 'df.method({col: value}, inplace=True)' or df[col] = df[col].method(value) instead, to perform the operation inplace on the original object.\n",
      "\n",
      "\n",
      "  df['REVIEWS'].replace(to_replace='Excelente' , value='Excellent', inplace=True)\n",
      "C:\\Users\\Kunal\\AppData\\Local\\Temp\\ipykernel_16060\\2546893848.py:2: FutureWarning: A value is trying to be set on a copy of a DataFrame or Series through chained assignment using an inplace method.\n",
      "The behavior will change in pandas 3.0. This inplace method will never work because the intermediate object on which we are setting values always behaves as a copy.\n",
      "\n",
      "For example, when doing 'df[col].method(value, inplace=True)', try using 'df.method({col: value}, inplace=True)' or df[col] = df[col].method(value) instead, to perform the operation inplace on the original object.\n",
      "\n",
      "\n",
      "  df['REVIEWS'].replace(to_replace=['Veľmi dobré','Bardzo dobrze','Muy Bueno','Velmi dobré'] , value='Very Good', inplace=True)\n"
     ]
    },
    {
     "data": {
      "text/plain": [
       "array(['Excellent', 'Very Good', 'Good', 'Not rated', 'Average', 'Poor',\n",
       "       'Very Poor'], dtype=object)"
      ]
     },
     "execution_count": 61,
     "metadata": {},
     "output_type": "execute_result"
    }
   ],
   "source": [
    "df['REVIEWS'].replace(to_replace='Excelente' , value='Excellent', inplace=True)\n",
    "df['REVIEWS'].replace(to_replace=['Veľmi dobré','Bardzo dobrze','Muy Bueno','Velmi dobré'] , value='Very Good', inplace=True)\n",
    "df['REVIEWS'].replace(to_replace=['Skvělá volba','Dobrze','Bueno','Buono','Dobré','Bom','Skvělé'] , value='Good', inplace=True)\n",
    "df['REVIEWS'].replace(to_replace=['Priemer','Média','Çok iyi'] , value='Average', inplace=True)\n",
    "df['REVIEWS'].replace(to_replace=['Průměr','Promedio','Ortalama','Muito Bom','İyi'] , value='Poor', inplace=True)\n",
    "df['REVIEWS'].replace(to_replace=['Baik','Biasa','Media','Sangat Baik'] , value='Very Poor', inplace=True)\n",
    "df['REVIEWS'].replace(to_replace=['None'] , value='Not Rated', inplace=True)\n",
    "df['REVIEWS'].unique()"
   ]
  },
  {
   "cell_type": "markdown",
   "id": "204280f0-04cb-4007-8635-f4a57d5e608d",
   "metadata": {},
   "source": [
    "## Cleaning region column"
   ]
  },
  {
   "cell_type": "code",
   "execution_count": 62,
   "id": "db779d17-f7d6-46ea-9f0a-6215c82517dc",
   "metadata": {},
   "outputs": [],
   "source": [
    "df['REGION'] = df['REGION'].str.replace('[a-zA-Z].+-- ','',regex=True)\n",
    "df['REGION'] = df['REGION'].str.replace(' West| west| East| east','',regex=True)"
   ]
  },
  {
   "cell_type": "markdown",
   "id": "039604ec-d6be-4d11-83ae-80638e3513e6",
   "metadata": {},
   "source": [
    "## Cleaning REGION column - 2, replacing with base region"
   ]
  },
  {
   "cell_type": "code",
   "execution_count": 63,
   "id": "a9f57af3-c0cc-4b00-9f74-3beedde04609",
   "metadata": {},
   "outputs": [],
   "source": [
    "df['REGION'] = df['REGION'].str.replace('4 Bungalows|7 Andheri|Azad Nagar|Near Andheri Station|Veera Desai Area|Mahakali','Andheri',regex=True)\n",
    "df['REGION'] = df['REGION'].str.replace('Bandra Kurla Complex','Bandra',regex=True)\n",
    "df['REGION'] = df['REGION'].str.replace('CBD-Belapur','CBD Belapur',regex=True)\n",
    "df['REGION'] = df['REGION'].str.replace('Girgaon Chowpatty','Chowpatty',regex=True)\n",
    "df['REGION'] = df['REGION'].str.replace('Dadar Shivaji Park','Dadar',regex=True)\n",
    "df['REGION'] = df['REGION'].str.replace('Flea Bazaar Café|Kamala Mills Compound','Lower Parel',regex=True)\n",
    "df['REGION'] = df['REGION'].str.replace('Runwal Green','Mulund',regex=True)\n",
    "df['REGION'] = df['REGION'].str.replace('Mumbai CST Area','Mumbai Central',regex=True)\n",
    "df['REGION'] = df['REGION'].str.replace('Kopar Khairane|Seawoods|Turbhe|Ulwe','Navi Mumbai',regex=True)\n",
    "df['REGION'] = df['REGION'].str.replace('New Panvel|Old Panvel','Panvel',regex=True)\n",
    "df['REGION'] = df['REGION'].str.replace('Kamothe','Sion',regex=True)\n",
    "df['REGION'] = df['REGION'].str.replace('Ghodbunder Road|Majiwada','Thane',regex=True)"
   ]
  },
  {
   "cell_type": "code",
   "execution_count": 64,
   "id": "c74cdc59-fd16-4095-94c8-856ea5a33a6d",
   "metadata": {},
   "outputs": [
    {
     "data": {
      "text/plain": [
       "array(['Bandra', 'Mahim', 'Juhu', 'Lower Parel', 'Marol', 'Andheri',\n",
       "       'Dadar', 'Khar', 'Mumbai Central', 'Bhandup', 'Malad', 'Powai',\n",
       "       'Chembur', 'Goregaon', 'Vile Parle', 'CBD Belapur', 'Ghansoli',\n",
       "       'Borivali', 'Vasai', 'Thane', 'Worli', 'Parel', 'Colaba',\n",
       "       'Nariman Point', 'Santacruz', 'Mulund', 'Kandivali', 'Airoli',\n",
       "       'Mira Road', 'Fort', 'Jogeshwari', 'Vashi', 'Ghatkopar', 'Byculla',\n",
       "       'Kalyan', 'Bhayandar', 'Sakinaka', 'Charni Road', 'Chandivali',\n",
       "       'Mohammad Ali Road', 'Kharghar', 'Matunga', 'Ulhasnagar',\n",
       "       'Navi Mumbai', 'Dahisar', 'Kurla', 'Chowpatty', 'Panvel', 'Sion',\n",
       "       'Tardeo', 'Mazgaon', 'Prabhadevi', 'Sanpada', 'Virar', 'Girgaum',\n",
       "       'Mumbra', 'Marve', 'Marine Lines', 'Mahalaxmi', 'Chakala',\n",
       "       'Nalasopara', 'Kalwa', 'Nerul', 'Grant Road', 'Breach Candy',\n",
       "       'Churchgate', 'Vikhroli', 'Kalbadevi', 'Dombivali', 'Kemps Corner',\n",
       "       'Malabar Hill', 'Kalamboli', 'Wadala', 'Alibaug', 'Peddar Road',\n",
       "       'Ambernath', 'Gorai', 'Sewri', 'Cuffe Parade', 'Trombay'],\n",
       "      dtype=object)"
      ]
     },
     "execution_count": 64,
     "metadata": {},
     "output_type": "execute_result"
    }
   ],
   "source": [
    "df['REGION'].unique()"
   ]
  },
  {
   "cell_type": "markdown",
   "id": "0586b7e4-b275-4add-8e6a-42cc38a9f9b2",
   "metadata": {},
   "source": [
    "## Checking if null values"
   ]
  },
  {
   "cell_type": "code",
   "execution_count": 65,
   "id": "67945bed-3e6d-4c4e-98a0-0063da3c3fb6",
   "metadata": {},
   "outputs": [
    {
     "data": {
      "text/plain": [
       "NAME                0\n",
       "PRICE               0\n",
       "CUISINE_CATEGORY    0\n",
       "REGION              0\n",
       "OUTLET_TYPE         0\n",
       "REVIEWS             0\n",
       "RATING              0\n",
       "dtype: int64"
      ]
     },
     "execution_count": 65,
     "metadata": {},
     "output_type": "execute_result"
    }
   ],
   "source": [
    "df.isnull().sum()"
   ]
  },
  {
   "cell_type": "markdown",
   "id": "21200690-ec35-439a-8097-2da92c6ac09e",
   "metadata": {},
   "source": [
    "## Changing data types of columns"
   ]
  },
  {
   "cell_type": "code",
   "execution_count": 66,
   "id": "3c03ba92-1d2c-49c1-82c7-302ee6f3db7e",
   "metadata": {},
   "outputs": [],
   "source": [
    "df = df.astype({'NAME':str, 'PRICE':int, 'CUISINE_CATEGORY':str, 'OUTLET_TYPE':'category','REVIEWS':'category', 'RATING':float})"
   ]
  },
  {
   "cell_type": "markdown",
   "id": "2cf96c5f-3bb4-479f-b744-dcf5cd79d4c4",
   "metadata": {},
   "source": [
    "## Finding price ranges for restaurants"
   ]
  },
  {
   "cell_type": "code",
   "execution_count": 67,
   "id": "14c47033-5b3b-4686-aa3d-cce06f97f349",
   "metadata": {},
   "outputs": [
    {
     "data": {
      "text/plain": [
       "PRICE\n",
       "0-500        9144\n",
       "500-1000     3402\n",
       "1000-3000     570\n",
       "3000-5000       4\n",
       "Name: count, dtype: int64"
      ]
     },
     "execution_count": 67,
     "metadata": {},
     "output_type": "execute_result"
    }
   ],
   "source": [
    "df['PRICE'] = pd.cut(df['PRICE'], [0,500,1000,3000,5000], labels=['0-500','500-1000','1000-3000','3000-5000'])\n",
    "df['PRICE'].value_counts()"
   ]
  },
  {
   "cell_type": "markdown",
   "id": "cb7a0b25-cae9-4177-986d-d15cc92d2d70",
   "metadata": {},
   "source": [
    "## Plotting Graph between number of restaurant and price range"
   ]
  },
  {
   "cell_type": "code",
   "execution_count": 81,
   "id": "cd2ebb4f-fb1a-4715-8a36-2b7a17e8540c",
   "metadata": {},
   "outputs": [
    {
     "data": {
      "image/png": "[encoded data removed]",
      "text/plain": [
       "<Figure size 1000x400 with 1 Axes>"
      ]
     },
     "metadata": {},
     "output_type": "display_data"
    }
   ],
   "source": [
    "x = df['PRICE'].value_counts().index\n",
    "y = df['PRICE'].value_counts().values\n",
    "plt.figure(figsize=(10, 4))\n",
    "plt.barh(x,y)\n",
    "plt.title(\"Number of restaurants in Price Range\")\n",
    "plt.xlabel(\"Price Range\")\n",
    "plt.ylabel(\"No of restaurants\")\n",
    "for index, value in enumerate(y):\n",
    "    plt.text(value, index, str(value))\n",
    "plt.show()"
   ]
  },
  {
   "cell_type": "markdown",
   "id": "cbf3a4a5-12d3-446c-a661-cdacc2ecb840",
   "metadata": {},
   "source": [
    "## Grouping rating in three categories"
   ]
  },
  {
   "cell_type": "code",
   "execution_count": 70,
   "id": "30664988-39f7-4313-9c80-90ecd367e731",
   "metadata": {},
   "outputs": [
    {
     "data": {
      "text/plain": [
       "RATING\n",
       "Medium    8248\n",
       "Low       1670\n",
       "High       841\n",
       "Name: count, dtype: int64"
      ]
     },
     "execution_count": 70,
     "metadata": {},
     "output_type": "execute_result"
    }
   ],
   "source": [
    "df['RATING'] = pd.cut(df['RATING'], [2,3,4,5], labels=['Low','Medium','High'])\n",
    "df['RATING'].value_counts()"
   ]
  },
  {
   "cell_type": "markdown",
   "id": "8467ba22-8926-4aca-b465-54d8da26d695",
   "metadata": {},
   "source": [
    "## Plotting Graph for percentage of restaurants as per ratings"
   ]
  },
  {
   "cell_type": "code",
   "execution_count": 71,
   "id": "1ec50c73-cef9-4a04-a9c2-ff80f6cb8078",
   "metadata": {},
   "outputs": [
    {
     "data": {
      "image/png": "[encoded data removed]",
      "text/plain": [
       "<Figure size 600x600 with 1 Axes>"
      ]
     },
     "metadata": {},
     "output_type": "display_data"
    }
   ],
   "source": [
    "x = df['RATING'].value_counts().index\n",
    "y = df['RATING'].value_counts().values\n",
    "plt.figure(figsize=(6, 6))\n",
    "plt.pie(y,labels=x,colors=['#B7C3F3', '#DD7596', '#8EB897'],autopct='%1.2f%%')\n",
    "plt.title(\"Rating of Restaurants\")\n",
    "plt.show()"
   ]
  },
  {
   "cell_type": "markdown",
   "id": "e30c6e4b-ce8c-4413-96ed-aea731880953",
   "metadata": {},
   "source": [
    "## Top 10 types of outlets"
   ]
  },
  {
   "cell_type": "code",
   "execution_count": 72,
   "id": "8711436d-190b-4708-aa36-104886f3c910",
   "metadata": {},
   "outputs": [
    {
     "data": {
      "text/plain": [
       "OUTLET_TYPE\n",
       "Quick Bites       4744\n",
       "Casual Dining     4598\n",
       "none              1547\n",
       "Bakery             730\n",
       "Dessert Parlor     557\n",
       "Café               332\n",
       "Sweet Shop         161\n",
       "Beverage Shop      111\n",
       "Food Court          75\n",
       "Dhaba               51\n",
       "Name: count, dtype: int64"
      ]
     },
     "execution_count": 72,
     "metadata": {},
     "output_type": "execute_result"
    }
   ],
   "source": [
    "df['OUTLET_TYPE'].value_counts().nlargest(10)"
   ]
  },
  {
   "cell_type": "markdown",
   "id": "34f4403f-560d-4a18-9cbf-05524a2f679b",
   "metadata": {},
   "source": [
    "## Plotting Graph between no. of restaurant and type of outlet"
   ]
  },
  {
   "cell_type": "code",
   "execution_count": 73,
   "id": "0b1e5dcd-4a95-4a4f-bc31-1f3fd4c3413d",
   "metadata": {},
   "outputs": [
    {
     "data": {
      "image/png": "[encoded data removed]",
      "text/plain": [
       "<Figure size 1000x400 with 1 Axes>"
      ]
     },
     "metadata": {},
     "output_type": "display_data"
    }
   ],
   "source": [
    "x = df['OUTLET_TYPE'].value_counts().nlargest(10).index\n",
    "y = df['OUTLET_TYPE'].value_counts().nlargest(10).values\n",
    "plt.figure(figsize=(10, 4))\n",
    "plt.title(\"Type of Restaurants vs Count\")\n",
    "plt.xlabel(\"Type of Restaurant\")\n",
    "plt.ylabel(\"No of restaurants\")\n",
    "plt.barh(x,y)\n",
    "for index, value in enumerate(y):\n",
    "    plt.text(value, index, str(value))\n",
    "plt.show()"
   ]
  },
  {
   "cell_type": "markdown",
   "id": "cffc0b0b-45fe-435d-b15d-c6cdb65880ac",
   "metadata": {},
   "source": [
    "## Finding all the different type of cuisines served"
   ]
  },
  {
   "cell_type": "code",
   "execution_count": 75,
   "id": "6f76f640-a36a-4940-ab4c-87e931c3f2e6",
   "metadata": {},
   "outputs": [],
   "source": [
    "df1 = df['CUISINE_CATEGORY'].str.split(',')\n"
   ]
  },
  {
   "cell_type": "markdown",
   "id": "7471a9a9-9b39-4b5f-bbab-31de20a504be",
   "metadata": {},
   "source": [
    "## Top 5 Cuisines served"
   ]
  },
  {
   "cell_type": "code",
   "execution_count": 76,
   "id": "02024f80-5cb0-4e63-9ac5-78e0e12b02c7",
   "metadata": {},
   "outputs": [],
   "source": [
    "xy = df1.explode().value_counts().nlargest(5)"
   ]
  },
  {
   "cell_type": "markdown",
   "id": "a1312f18-1424-409e-bb52-4e3401d3e8e4",
   "metadata": {},
   "source": [
    "## How many percentage of restaurants serves top 5 cuisines"
   ]
  },
  {
   "cell_type": "code",
   "execution_count": 77,
   "id": "2648fa61-fe47-4cea-aa45-3f250e9bfb03",
   "metadata": {},
   "outputs": [
    {
     "data": {
      "image/png": "[encoded data removed]",
      "text/plain": [
       "<Figure size 500x500 with 1 Axes>"
      ]
     },
     "metadata": {},
     "output_type": "display_data"
    }
   ],
   "source": [
    "x = xy.index\n",
    "y = xy.values/df.count().NAME\n",
    "plt.figure(figsize=(5, 5))\n",
    "plt.pie(y,labels=x,autopct='%1.2f%%')\n",
    "plt.title(\"Top 5 Cuisines\")\n",
    "plt.show()"
   ]
  },
  {
   "cell_type": "markdown",
   "id": "4284a529-540f-4dd7-99b1-79c89aba234d",
   "metadata": {},
   "source": [
    "## Restaurants reviews count"
   ]
  },
  {
   "cell_type": "code",
   "execution_count": 78,
   "id": "4a0055c3-ee4c-416f-b1fe-4b8aac29e7ea",
   "metadata": {},
   "outputs": [
    {
     "data": {
      "text/plain": [
       "REVIEWS\n",
       "Average      5113\n",
       "Good         4344\n",
       "Not rated    2359\n",
       "Very Good    1147\n",
       "Excellent      96\n",
       "Poor           57\n",
       "Very Poor       4\n",
       "Name: count, dtype: int64"
      ]
     },
     "execution_count": 78,
     "metadata": {},
     "output_type": "execute_result"
    }
   ],
   "source": [
    "df['REVIEWS'].value_counts()"
   ]
  },
  {
   "cell_type": "markdown",
   "id": "58d19ed6-576a-4e9d-866c-7d1987c972bc",
   "metadata": {},
   "source": [
    "## Top 10 Regions with most number of restaurants"
   ]
  },
  {
   "cell_type": "code",
   "execution_count": 79,
   "id": "fb9b811d-4b8c-4b3d-af90-e3ff3b594597",
   "metadata": {},
   "outputs": [
    {
     "data": {
      "text/plain": [
       "REGION\n",
       "Andheri      1087\n",
       "Thane         918\n",
       "Mira Road     523\n",
       "Malad         451\n",
       "Kandivali     447\n",
       "Bandra        432\n",
       "Goregaon      407\n",
       "Dombivali     380\n",
       "Borivali      365\n",
       "Chembur       334\n",
       "Name: count, dtype: int64"
      ]
     },
     "execution_count": 79,
     "metadata": {},
     "output_type": "execute_result"
    }
   ],
   "source": [
    "df['REGION'].value_counts().nlargest(10)"
   ]
  },
  {
   "cell_type": "markdown",
   "id": "b5551a8f-36f5-408d-8e42-cd1fa2445764",
   "metadata": {},
   "source": [
    "## Region vs No of restaurants."
   ]
  },
  {
   "cell_type": "code",
   "execution_count": 80,
   "id": "25807d1d-df0b-49f9-ad50-ac4471a5d2b8",
   "metadata": {},
   "outputs": [
    {
     "data": {
      "image/png": "[encoded data removed]",
      "text/plain": [
       "<Figure size 1000x400 with 1 Axes>"
      ]
     },
     "metadata": {},
     "output_type": "display_data"
    }
   ],
   "source": [
    "x = df['REGION'].value_counts().nlargest(10).index\n",
    "y = df['REGION'].value_counts().nlargest(10).values\n",
    "plt.figure(figsize=(10, 4))\n",
    "plt.title(\"Region vs No. of Restaurants\")\n",
    "plt.ylabel(\"No of restaurants\")\n",
    "plt.xlabel(\"Region\")\n",
    "plt.barh(x,y)\n",
    "for index, value in enumerate(y):\n",
    "    plt.text(value, index, str(value))\n",
    "plt.show()"
   ]
  }
 ],
 "metadata": {
  "kernelspec": {
   "display_name": "Python 3 (ipykernel)",
   "language": "python",
   "name": "python3"
  },
  "language_info": {
   "codemirror_mode": {
    "name": "ipython",
    "version": 3
   },
   "file_extension": ".py",
   "mimetype": "text/x-python",
   "name": "python",
   "nbconvert_exporter": "python",
   "pygments_lexer": "ipython3",
   "version": "3.12.4"
  }
 },
 "nbformat": 4,
 "nbformat_minor": 5
}
